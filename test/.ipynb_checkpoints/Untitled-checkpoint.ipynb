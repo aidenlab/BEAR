{
 "cells": [
  {
   "cell_type": "code",
   "execution_count": 97,
   "metadata": {},
   "outputs": [
    {
     "name": "stdout",
     "output_type": "stream",
     "text": [
      "positive\n",
      "0.9960771127549877\n"
     ]
    }
   ],
   "source": [
    "import pandas as pd\n",
    "\n",
    "\n",
    "\n",
    "FILE='/Users/peradastra/Documents/GitHub/POLAR-BEAR/test/polar-bear-fda-eua/virus/aligned/viral_depth_per_base.txt'\n",
    "DEPTH_PER_BASE = pd.read_csv(FILE, sep='\\t', names=[\"RF\", \"B\", \"CV\"], dtype={'RF': 'object', 'B': 'int64', 'CV': 'int64'})\n",
    "TOTAL_NUMBER_OF_BASES=DEPTH_PER_BASE.loc[DEPTH_PER_BASE.CV > 0, 'CV'].count()\n",
    "BASES_WITH_AT_LEAST_5X_COV=DEPTH_PER_BASE.loc[DEPTH_PER_BASE.CV >= 5, 'CV'].count()\n",
    "BREADTH_OF_COVERAGE = BASES_WITH_AT_LEAST_5X_COV/TOTAL_NUMBER_OF_BASES\n",
    "\n",
    "if (BREADTH_OF_COVERAGE*100) > 15:\n",
    "    RESULT = \"Positive\"\n",
    "else:\n",
    "    RESULT = \"Negative\"\n",
    "    \n",
    "with open(save_file, 'w') as file:\n",
    "    file.write(RESULT)\n",
    "file.close()\n",
    "    \n",
    "    \n",
    "    \n",
    "\n",
    "    "
   ]
  },
  {
   "cell_type": "code",
   "execution_count": 95,
   "metadata": {},
   "outputs": [
    {
     "data": {
      "text/html": [
       "<div>\n",
       "<style scoped>\n",
       "    .dataframe tbody tr th:only-of-type {\n",
       "        vertical-align: middle;\n",
       "    }\n",
       "\n",
       "    .dataframe tbody tr th {\n",
       "        vertical-align: top;\n",
       "    }\n",
       "\n",
       "    .dataframe thead th {\n",
       "        text-align: right;\n",
       "    }\n",
       "</style>\n",
       "<table border=\"1\" class=\"dataframe\">\n",
       "  <thead>\n",
       "    <tr style=\"text-align: right;\">\n",
       "      <th></th>\n",
       "      <th>RF</th>\n",
       "      <th>B</th>\n",
       "      <th>CV</th>\n",
       "    </tr>\n",
       "  </thead>\n",
       "  <tbody>\n",
       "  </tbody>\n",
       "</table>\n",
       "</div>"
      ],
      "text/plain": [
       "Empty DataFrame\n",
       "Columns: [RF, B, CV]\n",
       "Index: []"
      ]
     },
     "execution_count": 95,
     "metadata": {},
     "output_type": "execute_result"
    }
   ],
   "source": [
    "DEPTH_PER_BASE\n"
   ]
  },
  {
   "cell_type": "code",
   "execution_count": null,
   "metadata": {},
   "outputs": [],
   "source": []
  }
 ],
 "metadata": {
  "kernelspec": {
   "display_name": "Python 3",
   "language": "python",
   "name": "python3"
  },
  "language_info": {
   "codemirror_mode": {
    "name": "ipython",
    "version": 3
   },
   "file_extension": ".py",
   "mimetype": "text/x-python",
   "name": "python",
   "nbconvert_exporter": "python",
   "pygments_lexer": "ipython3",
   "version": "3.8.5"
  }
 },
 "nbformat": 4,
 "nbformat_minor": 4
}
